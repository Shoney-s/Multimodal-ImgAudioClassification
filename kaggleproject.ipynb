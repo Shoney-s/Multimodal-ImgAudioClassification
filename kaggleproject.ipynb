{
 "cells": [
  {
   "cell_type": "code",
   "execution_count": 220,
   "metadata": {
    "execution": {
     "iopub.execute_input": "2021-05-29T14:03:22.174370Z",
     "iopub.status.busy": "2021-05-29T14:03:22.173987Z",
     "iopub.status.idle": "2021-05-29T14:03:22.180934Z",
     "shell.execute_reply": "2021-05-29T14:03:22.179326Z",
     "shell.execute_reply.started": "2021-05-29T14:03:22.174336Z"
    }
   },
   "outputs": [],
   "source": [
    "import numpy as np\n",
    "import pandas as pd\n",
    "import matplotlib.pyplot as plt\n",
    "import torch\n",
    "import random\n",
    "import os\n",
    "\n",
    "from sklearn.model_selection import train_test_split"
   ]
  },
  {
   "cell_type": "markdown",
   "metadata": {},
   "source": [
    "**Context**\n",
    "\n",
    "Kaggle dataset link https://www.kaggle.com/birdy654/scene-classification-images-and-audio"
   ]
  },
  {
   "cell_type": "code",
   "execution_count": 244,
   "metadata": {
    "execution": {
     "iopub.execute_input": "2021-05-29T14:26:51.892132Z",
     "iopub.status.busy": "2021-05-29T14:26:51.891736Z",
     "iopub.status.idle": "2021-05-29T14:26:52.609416Z",
     "shell.execute_reply": "2021-05-29T14:26:52.608106Z",
     "shell.execute_reply.started": "2021-05-29T14:26:51.892085Z"
    }
   },
   "outputs": [
    {
     "data": {
      "text/html": [
       "<div>\n",
       "<style scoped>\n",
       "    .dataframe tbody tr th:only-of-type {\n",
       "        vertical-align: middle;\n",
       "    }\n",
       "\n",
       "    .dataframe tbody tr th {\n",
       "        vertical-align: top;\n",
       "    }\n",
       "\n",
       "    .dataframe thead th {\n",
       "        text-align: right;\n",
       "    }\n",
       "</style>\n",
       "<table border=\"1\" class=\"dataframe\">\n",
       "  <thead>\n",
       "    <tr style=\"text-align: right;\">\n",
       "      <th></th>\n",
       "      <th>IMAGE</th>\n",
       "      <th>mfcc_1</th>\n",
       "      <th>mfcc_2</th>\n",
       "      <th>mfcc_3</th>\n",
       "      <th>mfcc_4</th>\n",
       "      <th>mfcc_5</th>\n",
       "      <th>mfcc_6</th>\n",
       "      <th>mfcc_7</th>\n",
       "      <th>mfcc_8</th>\n",
       "      <th>mfcc_9</th>\n",
       "      <th>...</th>\n",
       "      <th>mfcc_97</th>\n",
       "      <th>mfcc_98</th>\n",
       "      <th>mfcc_99</th>\n",
       "      <th>mfcc_100</th>\n",
       "      <th>mfcc_101</th>\n",
       "      <th>mfcc_102</th>\n",
       "      <th>mfcc_103</th>\n",
       "      <th>mfcc_104</th>\n",
       "      <th>CLASS1</th>\n",
       "      <th>CLASS2</th>\n",
       "    </tr>\n",
       "  </thead>\n",
       "  <tbody>\n",
       "    <tr>\n",
       "      <th>0</th>\n",
       "      <td>images/forest/forest0.png</td>\n",
       "      <td>15.795384</td>\n",
       "      <td>-3.442518</td>\n",
       "      <td>-25.316836</td>\n",
       "      <td>-33.412104</td>\n",
       "      <td>2.447290</td>\n",
       "      <td>-46.981182</td>\n",
       "      <td>12.889984</td>\n",
       "      <td>-23.588534</td>\n",
       "      <td>-22.625879</td>\n",
       "      <td>...</td>\n",
       "      <td>-43.876462</td>\n",
       "      <td>20.697491</td>\n",
       "      <td>-22.793173</td>\n",
       "      <td>-9.417196</td>\n",
       "      <td>13.762870</td>\n",
       "      <td>-31.976786</td>\n",
       "      <td>18.461561</td>\n",
       "      <td>-13.140673</td>\n",
       "      <td>OUTDOORS</td>\n",
       "      <td>FOREST</td>\n",
       "    </tr>\n",
       "    <tr>\n",
       "      <th>1</th>\n",
       "      <td>images/forest/forest1.png</td>\n",
       "      <td>15.883880</td>\n",
       "      <td>-3.494075</td>\n",
       "      <td>-21.189490</td>\n",
       "      <td>-18.077115</td>\n",
       "      <td>4.284962</td>\n",
       "      <td>-27.014271</td>\n",
       "      <td>3.666955</td>\n",
       "      <td>-9.091312</td>\n",
       "      <td>-3.746509</td>\n",
       "      <td>...</td>\n",
       "      <td>-33.883092</td>\n",
       "      <td>17.223236</td>\n",
       "      <td>-24.985005</td>\n",
       "      <td>12.035913</td>\n",
       "      <td>8.321000</td>\n",
       "      <td>-16.249293</td>\n",
       "      <td>8.717523</td>\n",
       "      <td>0.743640</td>\n",
       "      <td>OUTDOORS</td>\n",
       "      <td>FOREST</td>\n",
       "    </tr>\n",
       "    <tr>\n",
       "      <th>2</th>\n",
       "      <td>images/forest/forest2.png</td>\n",
       "      <td>17.872629</td>\n",
       "      <td>-18.877467</td>\n",
       "      <td>-31.665319</td>\n",
       "      <td>-47.045579</td>\n",
       "      <td>1.813430</td>\n",
       "      <td>-45.899877</td>\n",
       "      <td>14.975982</td>\n",
       "      <td>-24.462396</td>\n",
       "      <td>-1.812962</td>\n",
       "      <td>...</td>\n",
       "      <td>-34.456028</td>\n",
       "      <td>21.433239</td>\n",
       "      <td>-14.190274</td>\n",
       "      <td>-8.629235</td>\n",
       "      <td>1.035640</td>\n",
       "      <td>-20.703358</td>\n",
       "      <td>5.986662</td>\n",
       "      <td>-14.644013</td>\n",
       "      <td>OUTDOORS</td>\n",
       "      <td>FOREST</td>\n",
       "    </tr>\n",
       "    <tr>\n",
       "      <th>3</th>\n",
       "      <td>images/forest/forest3.png</td>\n",
       "      <td>16.843997</td>\n",
       "      <td>-3.527753</td>\n",
       "      <td>-21.282970</td>\n",
       "      <td>-24.248141</td>\n",
       "      <td>27.201589</td>\n",
       "      <td>-18.787674</td>\n",
       "      <td>30.093938</td>\n",
       "      <td>-1.922008</td>\n",
       "      <td>10.156418</td>\n",
       "      <td>...</td>\n",
       "      <td>-36.410615</td>\n",
       "      <td>19.949251</td>\n",
       "      <td>-5.466172</td>\n",
       "      <td>6.480569</td>\n",
       "      <td>13.070739</td>\n",
       "      <td>-14.853299</td>\n",
       "      <td>10.243606</td>\n",
       "      <td>-17.983957</td>\n",
       "      <td>OUTDOORS</td>\n",
       "      <td>FOREST</td>\n",
       "    </tr>\n",
       "    <tr>\n",
       "      <th>4</th>\n",
       "      <td>images/forest/forest4.png</td>\n",
       "      <td>16.128583</td>\n",
       "      <td>-4.267328</td>\n",
       "      <td>-25.608325</td>\n",
       "      <td>-20.231084</td>\n",
       "      <td>15.922823</td>\n",
       "      <td>-35.703313</td>\n",
       "      <td>16.307644</td>\n",
       "      <td>-3.547505</td>\n",
       "      <td>4.804142</td>\n",
       "      <td>...</td>\n",
       "      <td>-41.548915</td>\n",
       "      <td>15.697646</td>\n",
       "      <td>-20.615005</td>\n",
       "      <td>-11.942869</td>\n",
       "      <td>5.421639</td>\n",
       "      <td>-27.445147</td>\n",
       "      <td>9.060233</td>\n",
       "      <td>-15.077528</td>\n",
       "      <td>OUTDOORS</td>\n",
       "      <td>FOREST</td>\n",
       "    </tr>\n",
       "  </tbody>\n",
       "</table>\n",
       "<p>5 rows × 107 columns</p>\n",
       "</div>"
      ],
      "text/plain": [
       "                       IMAGE     mfcc_1     mfcc_2     mfcc_3     mfcc_4  \\\n",
       "0  images/forest/forest0.png  15.795384  -3.442518 -25.316836 -33.412104   \n",
       "1  images/forest/forest1.png  15.883880  -3.494075 -21.189490 -18.077115   \n",
       "2  images/forest/forest2.png  17.872629 -18.877467 -31.665319 -47.045579   \n",
       "3  images/forest/forest3.png  16.843997  -3.527753 -21.282970 -24.248141   \n",
       "4  images/forest/forest4.png  16.128583  -4.267328 -25.608325 -20.231084   \n",
       "\n",
       "      mfcc_5     mfcc_6     mfcc_7     mfcc_8     mfcc_9  ...    mfcc_97  \\\n",
       "0   2.447290 -46.981182  12.889984 -23.588534 -22.625879  ... -43.876462   \n",
       "1   4.284962 -27.014271   3.666955  -9.091312  -3.746509  ... -33.883092   \n",
       "2   1.813430 -45.899877  14.975982 -24.462396  -1.812962  ... -34.456028   \n",
       "3  27.201589 -18.787674  30.093938  -1.922008  10.156418  ... -36.410615   \n",
       "4  15.922823 -35.703313  16.307644  -3.547505   4.804142  ... -41.548915   \n",
       "\n",
       "     mfcc_98    mfcc_99   mfcc_100   mfcc_101   mfcc_102   mfcc_103  \\\n",
       "0  20.697491 -22.793173  -9.417196  13.762870 -31.976786  18.461561   \n",
       "1  17.223236 -24.985005  12.035913   8.321000 -16.249293   8.717523   \n",
       "2  21.433239 -14.190274  -8.629235   1.035640 -20.703358   5.986662   \n",
       "3  19.949251  -5.466172   6.480569  13.070739 -14.853299  10.243606   \n",
       "4  15.697646 -20.615005 -11.942869   5.421639 -27.445147   9.060233   \n",
       "\n",
       "    mfcc_104    CLASS1  CLASS2  \n",
       "0 -13.140673  OUTDOORS  FOREST  \n",
       "1   0.743640  OUTDOORS  FOREST  \n",
       "2 -14.644013  OUTDOORS  FOREST  \n",
       "3 -17.983957  OUTDOORS  FOREST  \n",
       "4 -15.077528  OUTDOORS  FOREST  \n",
       "\n",
       "[5 rows x 107 columns]"
      ]
     },
     "execution_count": 244,
     "metadata": {},
     "output_type": "execute_result"
    }
   ],
   "source": [
    "data = pd.read_csv('/kaggle/input/scene-classification-images-and-audio/dataset.csv', delimiter=',', nrows=None)\n",
    "data_train = np.array(data)\n",
    "\n",
    "audio = data_train[:,1:-2].astype('float32') #last index of the interval isn't included in the range : CLASS1\n",
    "labels = data_train[:,-1]\n",
    "img_paths = data['IMAGE']\n",
    "\n",
    "classes = [\"FOREST\", \"CLASSROOM\", \"CITY\", \"RIVER\", \"GROCERY-STORE\",\"JUNGLE\",\"BEACH\",\"FOOTBALL-MATCH\",\"RESTAURANT\"]\n",
    "for index,class_name in enumerate(classes):\n",
    "    labels = np.where(labels == class_name, index, labels)\n",
    "\n",
    "labels.astype('int32')\n",
    "\n",
    "data.head(5)"
   ]
  },
  {
   "cell_type": "code",
   "execution_count": 222,
   "metadata": {
    "execution": {
     "iopub.execute_input": "2021-05-29T14:03:22.951425Z",
     "iopub.status.busy": "2021-05-29T14:03:22.950908Z",
     "iopub.status.idle": "2021-05-29T14:03:22.974788Z",
     "shell.execute_reply": "2021-05-29T14:03:22.973829Z",
     "shell.execute_reply.started": "2021-05-29T14:03:22.951380Z"
    }
   },
   "outputs": [],
   "source": [
    "img_train, img_temp, audio_train, audio_temp, labels_train, labels_temp = train_test_split(img_paths, audio, labels, train_size=0.6)\n",
    "img_val, img_test, audio_val, audio_test, labels_val, labels_test = train_test_split(img_temp, audio_temp, labels_temp, train_size=0.5)"
   ]
  },
  {
   "cell_type": "markdown",
   "metadata": {},
   "source": [
    "We define the seeds that allows to generate randomly the same numbers, thus making results reproducible"
   ]
  },
  {
   "cell_type": "code",
   "execution_count": 223,
   "metadata": {
    "execution": {
     "iopub.execute_input": "2021-05-29T14:03:22.978329Z",
     "iopub.status.busy": "2021-05-29T14:03:22.977889Z",
     "iopub.status.idle": "2021-05-29T14:03:22.983840Z",
     "shell.execute_reply": "2021-05-29T14:03:22.982440Z",
     "shell.execute_reply.started": "2021-05-29T14:03:22.978290Z"
    }
   },
   "outputs": [],
   "source": [
    "torch.manual_seed(0)\n",
    "torch.cuda.manual_seed_all(0)\n",
    "random.seed(0)\n",
    "np.random.seed(0)"
   ]
  },
  {
   "cell_type": "markdown",
   "metadata": {},
   "source": [
    "**Pytorch Dataset**\n",
    "\n",
    "We create Dataset class"
   ]
  },
  {
   "cell_type": "code",
   "execution_count": 224,
   "metadata": {
    "execution": {
     "iopub.execute_input": "2021-05-29T14:03:22.987461Z",
     "iopub.status.busy": "2021-05-29T14:03:22.986879Z",
     "iopub.status.idle": "2021-05-29T14:03:23.000278Z",
     "shell.execute_reply": "2021-05-29T14:03:22.999102Z",
     "shell.execute_reply.started": "2021-05-29T14:03:22.987411Z"
    }
   },
   "outputs": [],
   "source": [
    "from torch.utils.data import Dataset\n",
    "from PIL import Image\n",
    "\n",
    "class ImgAudioDataset(Dataset):\n",
    "    def __init__(self, root_dir, img_data, audio_data, labels=None, img_transform=None, audio_transform=None):\n",
    "        self.root_dir = root_dir\n",
    "        self.img_data = img_data\n",
    "        self.audio_data = audio_data\n",
    "        self.labels = labels\n",
    "        self.img_transform = img_transform\n",
    "        self.audio_transform = audio_transform\n",
    "        \n",
    "    def __len__(self):\n",
    "        return len(self.img_data)\n",
    "        \n",
    "    def __getitem__(self, idx):\n",
    "        img = Image.open(os.path.join(self.root_dir, self.img_data.iloc[idx]))\n",
    "        audio = self.audio_data[idx,:]\n",
    "        if self.img_transform:\n",
    "            img = self.img_transform(img)\n",
    "        if self.audio_transform:\n",
    "            audio = self.audio_transform(audio)        \n",
    "                               \n",
    "        return ((img, audio) if labels is None else (img, audio, int(self.labels[idx])))"
   ]
  },
  {
   "cell_type": "markdown",
   "metadata": {},
   "source": [
    "**TRAIN**"
   ]
  },
  {
   "cell_type": "code",
   "execution_count": 225,
   "metadata": {
    "execution": {
     "iopub.execute_input": "2021-05-29T14:03:23.002637Z",
     "iopub.status.busy": "2021-05-29T14:03:23.002161Z",
     "iopub.status.idle": "2021-05-29T14:03:23.021388Z",
     "shell.execute_reply": "2021-05-29T14:03:23.019630Z",
     "shell.execute_reply.started": "2021-05-29T14:03:23.002595Z"
    }
   },
   "outputs": [],
   "source": [
    "import time\n",
    "import copy\n",
    "from torch.cuda.amp import autocast, GradScaler\n",
    "\n",
    "def train(data_type, model, train_loader, val_loader, criterion, optimizer, scheduler, epochs):\n",
    "    i = 1\n",
    "    train_acc_vals = []\n",
    "    train_loss_vals = []\n",
    "    val_acc_vals = []\n",
    "    \n",
    "    scaler = GradScaler()\n",
    "    \n",
    "    for epoch in range(epochs):\n",
    "        epoch_start = time.time()\n",
    "        \n",
    "        print(\"epoch : \" + str(i))\n",
    "        i+=1\n",
    "        \n",
    "        running_loss = 0.0\n",
    "        running_corrects = 0.0\n",
    "        epoch_loss_sum = 0.0\n",
    "        epoch_loss = 0.0\n",
    "        epoch_acc = 0.0\n",
    "\n",
    "        model.train()\n",
    "        for index, data in enumerate(train_loader):\n",
    "            img, audio, labels = data\n",
    "            img, audio, labels = img.cuda(), audio.cuda(), labels.cuda()\n",
    "            \n",
    "            optimizer.zero_grad()\n",
    "            \n",
    "            with autocast():\n",
    "                # forward\n",
    "                if data_type == \"img\":\n",
    "                    outputs = model(img)\n",
    "                elif data_type == \"audio\":\n",
    "                    outputs = model(audio)\n",
    "                elif data_type == \"imgaudio\":\n",
    "                    outputs = model(img, audio)\n",
    "                else:\n",
    "                    raise ValueError('Data must be img, audio or imgaudio')\n",
    "                loss = criterion(outputs,labels) # compare obtained and expected output\n",
    "                _, preds = torch.max(outputs, 1)\n",
    "                running_corrects += torch.sum(preds == labels)\n",
    "                epoch_loss_sum += loss.item()\n",
    "                \n",
    "            # scale aim to prevent zero flush of low magnitude gradient values\n",
    "            scaler.scale(loss).backward() # backward\n",
    "            scaler.step(optimizer) # compute gradient for optimization\n",
    "            scaler.update()\n",
    "            \n",
    "            #print statistics\n",
    "            running_loss += loss.item()\n",
    "            if index % 200 == 199:    \n",
    "                print('[%d, %5d] loss: %.3f' % (epoch + 1, index + 1, running_loss / 200))\n",
    "                running_loss = 0.0\n",
    "                \n",
    "        best_model = copy.deepcopy(model.state_dict())\n",
    "                 \n",
    "        epoch_loss = epoch_loss_sum / len(train_loader.dataset)\n",
    "        epoch_acc = running_corrects / len(train_loader.dataset)\n",
    "        \n",
    "        print(f'Epoch accuracy: {epoch_acc}, Epoch loss: {epoch_loss}')\n",
    "        \n",
    "        train_loss_vals.append(epoch_acc)\n",
    "        train_acc_vals.append(epoch_loss)\n",
    "            \n",
    "    \n",
    "        \"\"\"\n",
    "            #We compute validation data accuracy on each epoch to prevent overfitting \n",
    "            #if val_accuracy isn't improved by current training epoch\n",
    "            val_acc = 0\n",
    "            model.eval()\n",
    "            with torch.no_grad: #Validation data aim to test, not to train NN --> grad isn't needed\n",
    "                for img, audio, labels in val_loader:\n",
    "                    img, audio, labels = img.cuda(), audio.cuda(), labels.cuda()\n",
    "                    if data_type == \"img\":\n",
    "                        outputs = model(img)\n",
    "                    elif data_type == \"audio\":\n",
    "                        outputs = model(audio)\n",
    "                    else:\n",
    "                        outputs = model(img, audio)\n",
    "                        \"\"\"\n",
    "        print(f'Epoch duration : {time.time() - epoch_start}')\n",
    "        model.load_state_dict(best_model)\n",
    "    return model, train_loss_vals, train_acc_vals, val_acc_vals"
   ]
  },
  {
   "cell_type": "markdown",
   "metadata": {},
   "source": [
    "**PREDICT**"
   ]
  },
  {
   "cell_type": "code",
   "execution_count": 226,
   "metadata": {
    "execution": {
     "iopub.execute_input": "2021-05-29T14:03:23.024043Z",
     "iopub.status.busy": "2021-05-29T14:03:23.023426Z",
     "iopub.status.idle": "2021-05-29T14:03:23.036191Z",
     "shell.execute_reply": "2021-05-29T14:03:23.034855Z",
     "shell.execute_reply.started": "2021-05-29T14:03:23.023984Z"
    }
   },
   "outputs": [],
   "source": [
    "def predict(test_loader, model):\n",
    "    model.eval()\n",
    "    \n",
    "    with torch.no_grad: #Validation data aim to test, not to train NN --> grad isn't needed\n",
    "        for data_type, img, audio, labels in test_loader:\n",
    "            img, audio = img.cuda(), audio.cuda()\n",
    "        if data_type == \"img\":\n",
    "            outputs = model(img)\n",
    "        elif data_type == \"audio\":\n",
    "            outputs = model(audio)\n",
    "        else:\n",
    "             outputs = model(img, audio)\n",
    "                \n",
    "    return None"
   ]
  },
  {
   "cell_type": "markdown",
   "metadata": {},
   "source": [
    "**<font size=\"6\" color=\"darkblue\">IMAGES</font>**\n",
    "\n",
    "Explication données image"
   ]
  },
  {
   "cell_type": "markdown",
   "metadata": {},
   "source": [
    "**IMAGE VISUALIZATION**"
   ]
  },
  {
   "cell_type": "markdown",
   "metadata": {},
   "source": [
    "**DATA TRANSFORMATION** "
   ]
  },
  {
   "cell_type": "code",
   "execution_count": 227,
   "metadata": {
    "execution": {
     "iopub.execute_input": "2021-05-29T14:03:23.038519Z",
     "iopub.status.busy": "2021-05-29T14:03:23.037871Z",
     "iopub.status.idle": "2021-05-29T14:03:23.053151Z",
     "shell.execute_reply": "2021-05-29T14:03:23.051914Z",
     "shell.execute_reply.started": "2021-05-29T14:03:23.038325Z"
    }
   },
   "outputs": [],
   "source": [
    "from torchvision import transforms\n",
    "\n",
    "# DA : Data Augmentation\n",
    "# DP : Data Preparation --> transform data to a more ergonomic data format\n",
    "\n",
    "img_train_transform = transforms.Compose([ #Compose is used to chain multiple transforms to create a transformation pipeline\n",
    "    transforms.RandomResizedCrop(224), #DA\n",
    "    transforms.RandomHorizontalFlip(), #DA\n",
    "    transforms.ToTensor(), #DP to compute on GPU\n",
    "    transforms.Normalize([0.485, 0.456, 0.406],[0.229, 0.224, 0.225]) #DP\n",
    "])\n",
    "img_val_transform = transforms.Compose([\n",
    "    transforms.Resize(256), #DA fixed resize and crop for reliability\n",
    "    transforms.CenterCrop(224),# DA\n",
    "    transforms.ToTensor(), #DP\n",
    "    transforms.Normalize([0.485, 0.456, 0.406],[0.229, 0.224, 0.225]) #DP\n",
    "])"
   ]
  },
  {
   "cell_type": "markdown",
   "metadata": {},
   "source": [
    "**IMAGE LOADER**"
   ]
  },
  {
   "cell_type": "code",
   "execution_count": 228,
   "metadata": {
    "execution": {
     "iopub.execute_input": "2021-05-29T14:03:23.057001Z",
     "iopub.status.busy": "2021-05-29T14:03:23.055974Z",
     "iopub.status.idle": "2021-05-29T14:03:23.065507Z",
     "shell.execute_reply": "2021-05-29T14:03:23.064338Z",
     "shell.execute_reply.started": "2021-05-29T14:03:23.056955Z"
    }
   },
   "outputs": [],
   "source": [
    "from torch.utils.data import Dataset, DataLoader\n",
    "\n",
    "train_data = ImgAudioDataset(root_dir='/kaggle/input/scene-classification-images-and-audio', img_data=img_train, audio_data=audio_train, labels=labels_train, img_transform=img_train_transform)\n",
    "val_data = ImgAudioDataset(root_dir='/kaggle/input/scene-classification-images-and-audio/', img_data=img_val,  audio_data=audio_val,labels=labels_val, img_transform=img_val_transform)\n",
    "\n",
    "train_loader = DataLoader(train_data, batch_size=16, shuffle=True, num_workers=4, pin_memory=True)\n",
    "val_loader = DataLoader(val_data, batch_size=16, shuffle=True, num_workers=4, pin_memory=True)"
   ]
  },
  {
   "cell_type": "markdown",
   "metadata": {},
   "source": [
    "**TRANSFER LEARNING** \n",
    "\n",
    "We load a pretrained neural network on ImageNet dataset."
   ]
  },
  {
   "cell_type": "code",
   "execution_count": 229,
   "metadata": {
    "execution": {
     "iopub.execute_input": "2021-05-29T14:03:23.070143Z",
     "iopub.status.busy": "2021-05-29T14:03:23.069595Z",
     "iopub.status.idle": "2021-05-29T14:03:23.844170Z",
     "shell.execute_reply": "2021-05-29T14:03:23.843077Z",
     "shell.execute_reply.started": "2021-05-29T14:03:23.070110Z"
    },
    "scrolled": true
   },
   "outputs": [],
   "source": [
    "import torchvision.models\n",
    "import torch\n",
    "import torch.nn as nn\n",
    "import torch.nn.functional as F\n",
    "\n",
    "resnext = torchvision.models.resnext50_32x4d(pretrained=True, progress=True)\n",
    "\n",
    "for param in resnext.parameters():\n",
    "    param.requires_grad = False\n",
    "    \n",
    "num_ftrs = resnext.fc.in_features\n",
    "resnext.fc = nn.Linear(num_ftrs, 9)\n",
    "\n",
    "resnext = resnext.cuda()"
   ]
  },
  {
   "cell_type": "code",
   "execution_count": 230,
   "metadata": {
    "execution": {
     "iopub.execute_input": "2021-05-29T14:03:23.848387Z",
     "iopub.status.busy": "2021-05-29T14:03:23.848096Z",
     "iopub.status.idle": "2021-05-29T14:03:23.857325Z",
     "shell.execute_reply": "2021-05-29T14:03:23.856106Z",
     "shell.execute_reply.started": "2021-05-29T14:03:23.848359Z"
    }
   },
   "outputs": [],
   "source": [
    "from torch.optim import lr_scheduler\n",
    "import torch.optim as optim\n",
    "\n",
    "optimizer = optim.Adam(resnext.fc.parameters(), lr=0.001)\n",
    "criterion = nn.CrossEntropyLoss()\n",
    "scheduler = lr_scheduler.ReduceLROnPlateau(optimizer, patience=0,factor=0.5)"
   ]
  },
  {
   "cell_type": "code",
   "execution_count": 231,
   "metadata": {
    "execution": {
     "iopub.execute_input": "2021-05-29T14:03:23.860168Z",
     "iopub.status.busy": "2021-05-29T14:03:23.859586Z",
     "iopub.status.idle": "2021-05-29T14:15:05.260882Z",
     "shell.execute_reply": "2021-05-29T14:15:05.259687Z",
     "shell.execute_reply.started": "2021-05-29T14:03:23.860126Z"
    }
   },
   "outputs": [
    {
     "name": "stdout",
     "output_type": "stream",
     "text": [
      "epoch : 1\n",
      "[1,   200] loss: 0.693\n",
      "[1,   400] loss: 0.325\n",
      "[1,   600] loss: 0.262\n",
      "Epoch accuracy: 0.8791421055793762, Epoch loss: 0.02611831506459958\n",
      "Epoch duration : 70.44312930107117\n",
      "epoch : 2\n",
      "[2,   200] loss: 0.233\n",
      "[2,   400] loss: 0.217\n",
      "[2,   600] loss: 0.217\n",
      "Epoch accuracy: 0.9320838451385498, Epoch loss: 0.013718721404280822\n",
      "Epoch duration : 69.65638756752014\n",
      "epoch : 3\n",
      "[3,   200] loss: 0.200\n",
      "[3,   400] loss: 0.190\n",
      "[3,   600] loss: 0.182\n",
      "Epoch accuracy: 0.9396193623542786, Epoch loss: 0.011769087775653124\n",
      "Epoch duration : 69.95826888084412\n",
      "epoch : 4\n",
      "[4,   200] loss: 0.201\n",
      "[4,   400] loss: 0.190\n",
      "[4,   600] loss: 0.179\n",
      "Epoch accuracy: 0.9363346695899963, Epoch loss: 0.011735761784362227\n",
      "Epoch duration : 70.77776789665222\n",
      "epoch : 5\n",
      "[5,   200] loss: 0.169\n",
      "[5,   400] loss: 0.179\n",
      "[5,   600] loss: 0.169\n",
      "Epoch accuracy: 0.9430972933769226, Epoch loss: 0.01087837010536909\n",
      "Epoch duration : 69.55069279670715\n",
      "epoch : 6\n",
      "[6,   200] loss: 0.165\n",
      "[6,   400] loss: 0.144\n",
      "[6,   600] loss: 0.162\n",
      "Epoch accuracy: 0.9475412964820862, Epoch loss: 0.009818606165303586\n",
      "Epoch duration : 70.4236650466919\n",
      "epoch : 7\n",
      "[7,   200] loss: 0.162\n",
      "[7,   400] loss: 0.148\n",
      "[7,   600] loss: 0.162\n",
      "Epoch accuracy: 0.9454159140586853, Epoch loss: 0.009942741829267797\n",
      "Epoch duration : 70.23795747756958\n",
      "epoch : 8\n",
      "[8,   200] loss: 0.157\n",
      "[8,   400] loss: 0.151\n",
      "[8,   600] loss: 0.157\n",
      "Epoch accuracy: 0.9463819861412048, Epoch loss: 0.00984918272790394\n",
      "Epoch duration : 70.25931525230408\n",
      "epoch : 9\n",
      "[9,   200] loss: 0.155\n",
      "[9,   400] loss: 0.161\n",
      "[9,   600] loss: 0.149\n",
      "Epoch accuracy: 0.9474446773529053, Epoch loss: 0.009842675273423545\n",
      "Epoch duration : 70.2033314704895\n",
      "epoch : 10\n",
      "[10,   200] loss: 0.132\n",
      "[10,   400] loss: 0.178\n",
      "[10,   600] loss: 0.150\n",
      "Epoch accuracy: 0.949763298034668, Epoch loss: 0.009627253809411509\n",
      "Epoch duration : 69.61997532844543\n"
     ]
    }
   ],
   "source": [
    "import matplotlib.pyplot as plt\n",
    "\n",
    "epochs = 10\n",
    "data_type = 'img'\n",
    "resnext, loss_vals, train_acc_vals, val_acc_vals = train(data_type, resnext, train_loader, val_loader, criterion, optimizer, scheduler, epochs)"
   ]
  },
  {
   "cell_type": "markdown",
   "metadata": {},
   "source": [
    "**<font size=\"6\" color=\"darkblue\">AUDIO</font>**\n",
    "\n",
    "Type de données MCCF"
   ]
  },
  {
   "cell_type": "markdown",
   "metadata": {},
   "source": [
    "**AUDIO DATA VISUALIZATION**"
   ]
  },
  {
   "cell_type": "code",
   "execution_count": 232,
   "metadata": {
    "execution": {
     "iopub.execute_input": "2021-05-29T14:15:05.263454Z",
     "iopub.status.busy": "2021-05-29T14:15:05.262925Z",
     "iopub.status.idle": "2021-05-29T14:15:05.896733Z",
     "shell.execute_reply": "2021-05-29T14:15:05.895699Z",
     "shell.execute_reply.started": "2021-05-29T14:15:05.263406Z"
    }
   },
   "outputs": [
    {
     "data": {
      "image/png": "[encoded data removed]",
      "text/plain": [
       "<Figure size 432x288 with 4 Axes>"
      ]
     },
     "metadata": {
      "needs_background": "light"
     },
     "output_type": "display_data"
    }
   ],
   "source": [
    "import matplotlib.pyplot as plt\n",
    "\n",
    "plt.subplot(2,2,1)\n",
    "plt.hist(audio[::,0])\n",
    "plt.title('mfcc_1')\n",
    "plt.subplot(2,2,2)\n",
    "plt.hist(audio[::,1])\n",
    "plt.title('mfcc_2')\n",
    "plt.subplot(2,2,3)\n",
    "plt.hist(audio[::,2])\n",
    "plt.title('mfcc_3')\n",
    "plt.subplot(2,2,4)\n",
    "plt.hist(audio[::,3])\n",
    "plt.title('mfcc_4')\n",
    "plt.tight_layout()"
   ]
  },
  {
   "cell_type": "code",
   "execution_count": 233,
   "metadata": {
    "execution": {
     "iopub.execute_input": "2021-05-29T14:15:05.898996Z",
     "iopub.status.busy": "2021-05-29T14:15:05.898728Z",
     "iopub.status.idle": "2021-05-29T14:15:05.918883Z",
     "shell.execute_reply": "2021-05-29T14:15:05.917589Z",
     "shell.execute_reply.started": "2021-05-29T14:15:05.898969Z"
    }
   },
   "outputs": [],
   "source": [
    "class MLP(nn.Module):\n",
    "    def __init__(self):\n",
    "        super(MLP, self).__init__()\n",
    "        \n",
    "        self.linear1 = nn.Linear(104, 156)\n",
    "        self.bn1 = nn.BatchNorm1d(156)\n",
    "        \n",
    "        self.linear2 = nn.Linear(156, 208)\n",
    "        self.bn2 = nn.BatchNorm1d(208)\n",
    "        \n",
    "        self.linear3 = nn.Linear(208, 156)\n",
    "        self.bn3 = nn.BatchNorm1d(156)\n",
    "        \n",
    "        self.linear4 = nn.Linear(156, 104)\n",
    "        self.bn4 = nn.BatchNorm1d(104)\n",
    "        \n",
    "        self.linear5 = nn.Linear(104, 64)\n",
    "        self.bn5 = nn.BatchNorm1d(64)\n",
    "\n",
    "\n",
    "        self.final = nn.Linear(64,9)\n",
    "      \n",
    "    def forward(self, x):\n",
    "        x = F.leaky_relu(self.bn1(self.linear1(x)))\n",
    "        x = F.leaky_relu(self.bn2(self.linear2(x)))\n",
    "        x = F.leaky_relu(self.bn3(self.linear3(x)))\n",
    "        x = F.leaky_relu(self.bn4(self.linear4(x)))\n",
    "        x = F.leaky_relu(self.bn5(self.linear5(x)))\n",
    "\n",
    "        x = self.final(x)\n",
    "        return x\n",
    "\n",
    "mlp = MLP().cuda()"
   ]
  },
  {
   "cell_type": "markdown",
   "metadata": {},
   "source": [
    "**DATA PROCESSING METHODS**"
   ]
  },
  {
   "cell_type": "code",
   "execution_count": 234,
   "metadata": {
    "execution": {
     "iopub.execute_input": "2021-05-29T14:15:05.921180Z",
     "iopub.status.busy": "2021-05-29T14:15:05.920634Z",
     "iopub.status.idle": "2021-05-29T14:15:05.938169Z",
     "shell.execute_reply": "2021-05-29T14:15:05.936996Z",
     "shell.execute_reply.started": "2021-05-29T14:15:05.921138Z"
    }
   },
   "outputs": [],
   "source": [
    "def normalize(data):\n",
    "    return (data - np.mean(data, axis=0))/np.std(data, axis=0)\n",
    "\n",
    "audio_train = normalize(audio_train)\n",
    "audio_val = normalize(audio_val)"
   ]
  },
  {
   "cell_type": "code",
   "execution_count": 235,
   "metadata": {
    "execution": {
     "iopub.execute_input": "2021-05-29T14:15:05.940449Z",
     "iopub.status.busy": "2021-05-29T14:15:05.940143Z",
     "iopub.status.idle": "2021-05-29T14:15:05.948864Z",
     "shell.execute_reply": "2021-05-29T14:15:05.947521Z",
     "shell.execute_reply.started": "2021-05-29T14:15:05.940420Z"
    }
   },
   "outputs": [],
   "source": [
    "class AddGaussianNoise:\n",
    "    def __init__(self, mean=0., std=1.):\n",
    "        self.std = std\n",
    "        self.mean = mean\n",
    "        \n",
    "    def __call__(self, tensor):\n",
    "        return tensor + torch.randn(tensor.size()) * self.std + self.mean\n",
    "    \n",
    "    def __repr__(self):\n",
    "        return self.__class__.__name__ + '(mean={0}, std={1})'.format(self.mean, self.std)"
   ]
  },
  {
   "cell_type": "code",
   "execution_count": 236,
   "metadata": {
    "execution": {
     "iopub.execute_input": "2021-05-29T14:15:05.951517Z",
     "iopub.status.busy": "2021-05-29T14:15:05.950602Z",
     "iopub.status.idle": "2021-05-29T14:15:05.960931Z",
     "shell.execute_reply": "2021-05-29T14:15:05.959721Z",
     "shell.execute_reply.started": "2021-05-29T14:15:05.951471Z"
    }
   },
   "outputs": [],
   "source": [
    "class RandomCircularShift:      \n",
    "    def __call__(self, tensor):\n",
    "        return torch.roll(tensor, 13*np.random.randint(8),dims=0)"
   ]
  },
  {
   "cell_type": "markdown",
   "metadata": {},
   "source": [
    "**AUDIO DATA TRANSFORMATION** "
   ]
  },
  {
   "cell_type": "code",
   "execution_count": 247,
   "metadata": {
    "execution": {
     "iopub.execute_input": "2021-05-29T14:28:09.613354Z",
     "iopub.status.busy": "2021-05-29T14:28:09.612967Z",
     "iopub.status.idle": "2021-05-29T14:28:09.622364Z",
     "shell.execute_reply": "2021-05-29T14:28:09.621126Z",
     "shell.execute_reply.started": "2021-05-29T14:28:09.613324Z"
    }
   },
   "outputs": [],
   "source": [
    "img_train_transform = transforms.Compose([\n",
    "    transforms.RandomResizedCrop(224),\n",
    "    transforms.RandomHorizontalFlip(),\n",
    "    transforms.ToTensor(),\n",
    "    transforms.Normalize([0.485, 0.456, 0.406],[0.229, 0.224, 0.225])\n",
    "])\n",
    "img_val_transform = transforms.Compose([\n",
    "    transforms.Resize(256),\n",
    "    transforms.CenterCrop(224),\n",
    "    transforms.ToTensor(),\n",
    "    transforms.Normalize([0.485, 0.456, 0.406],[0.229, 0.224, 0.225])\n",
    "])\n",
    "\n",
    "audio_train_transform = transforms.Compose([\n",
    "    torch.from_numpy,\n",
    "    AddGaussianNoise(0.0, 0.1),\n",
    "    RandomCircularShift()\n",
    "])\n",
    "\n",
    "audio_val_transform = transforms.Compose([\n",
    "    torch.from_numpy,\n",
    "    AddGaussianNoise(0.0, 0.1),\n",
    "    RandomCircularShift()\n",
    "])"
   ]
  },
  {
   "cell_type": "markdown",
   "metadata": {},
   "source": [
    "**AUDIO DATA LOADER**"
   ]
  },
  {
   "cell_type": "code",
   "execution_count": 248,
   "metadata": {
    "execution": {
     "iopub.execute_input": "2021-05-29T14:28:10.018824Z",
     "iopub.status.busy": "2021-05-29T14:28:10.018487Z",
     "iopub.status.idle": "2021-05-29T14:28:10.026183Z",
     "shell.execute_reply": "2021-05-29T14:28:10.024417Z",
     "shell.execute_reply.started": "2021-05-29T14:28:10.018795Z"
    }
   },
   "outputs": [],
   "source": [
    "train_data = ImgAudioDataset(root_dir='/kaggle/input/scene-classification-images-and-audio', \n",
    "                                img_data=img_train, audio_data=audio_train, labels=labels_train, img_transform = img_train_transform, audio_transform=audio_train_transform)\n",
    "val_data = ImgAudioDataset(root_dir='/kaggle/input/scene-classification-images-and-audio4', \n",
    "                           img_data=img_val, audio_data=audio_val, labels=labels_val, img_transform = img_val_transform, audio_transform=audio_val_transform)\n",
    "\n",
    "train_loader = DataLoader(train_data, batch_size=16, shuffle=True, num_workers=4, pin_memory=True)\n",
    "val_loader = DataLoader(val_data, batch_size=16, shuffle=True, num_workers=4, pin_memory=True)"
   ]
  },
  {
   "cell_type": "code",
   "execution_count": 249,
   "metadata": {
    "execution": {
     "iopub.execute_input": "2021-05-29T14:28:10.192292Z",
     "iopub.status.busy": "2021-05-29T14:28:10.191836Z",
     "iopub.status.idle": "2021-05-29T14:28:10.199548Z",
     "shell.execute_reply": "2021-05-29T14:28:10.198097Z",
     "shell.execute_reply.started": "2021-05-29T14:28:10.192262Z"
    }
   },
   "outputs": [],
   "source": [
    "optimizer = optim.Adam(resnext.fc.parameters(), lr=0.001) \n",
    "criterion = nn.CrossEntropyLoss()\n",
    "scheduler = lr_scheduler.ReduceLROnPlateau(optimizer, patience=0,factor=0.5)"
   ]
  },
  {
   "cell_type": "code",
   "execution_count": 250,
   "metadata": {
    "execution": {
     "iopub.execute_input": "2021-05-29T14:28:10.358634Z",
     "iopub.status.busy": "2021-05-29T14:28:10.358272Z",
     "iopub.status.idle": "2021-05-29T14:37:36.125516Z",
     "shell.execute_reply": "2021-05-29T14:37:36.124406Z",
     "shell.execute_reply.started": "2021-05-29T14:28:10.358605Z"
    }
   },
   "outputs": [
    {
     "name": "stdout",
     "output_type": "stream",
     "text": [
      "epoch : 1\n",
      "[1,   200] loss: 2.258\n",
      "[1,   400] loss: 2.273\n",
      "[1,   600] loss: 2.266\n",
      "Epoch accuracy: 0.12163075804710388, Epoch loss: 0.14148957297924278\n",
      "Epoch duration : 57.21779203414917\n",
      "epoch : 2\n",
      "[2,   200] loss: 2.261\n",
      "[2,   400] loss: 2.260\n",
      "[2,   600] loss: 2.269\n",
      "Epoch accuracy: 0.11911892890930176, Epoch loss: 0.1414788984904576\n",
      "Epoch duration : 56.88335061073303\n",
      "epoch : 3\n",
      "[3,   200] loss: 2.267\n",
      "[3,   400] loss: 2.261\n",
      "[3,   600] loss: 2.267\n",
      "Epoch accuracy: 0.11882910132408142, Epoch loss: 0.1416385346317669\n",
      "Epoch duration : 57.19689226150513\n",
      "epoch : 4\n",
      "[4,   200] loss: 2.279\n",
      "[4,   400] loss: 2.260\n",
      "[4,   600] loss: 2.257\n",
      "Epoch accuracy: 0.11766979098320007, Epoch loss: 0.1415878338302901\n",
      "Epoch duration : 56.679038286209106\n",
      "epoch : 5\n",
      "[5,   200] loss: 2.270\n",
      "[5,   400] loss: 2.262\n",
      "[5,   600] loss: 2.268\n",
      "Epoch accuracy: 0.1201816275715828, Epoch loss: 0.14164912354000617\n",
      "Epoch duration : 57.190605878829956\n",
      "epoch : 6\n",
      "[6,   200] loss: 2.261\n",
      "[6,   400] loss: 2.256\n",
      "[6,   600] loss: 2.263\n",
      "Epoch accuracy: 0.1225968524813652, Epoch loss: 0.14119563842324195\n",
      "Epoch duration : 57.55880641937256\n",
      "epoch : 7\n",
      "[7,   200] loss: 2.262\n",
      "[7,   400] loss: 2.266\n",
      "[7,   600] loss: 2.270\n",
      "Epoch accuracy: 0.11670369654893875, Epoch loss: 0.14169621319024991\n",
      "Epoch duration : 55.64352798461914\n",
      "epoch : 8\n",
      "[8,   200] loss: 2.269\n",
      "[8,   400] loss: 2.259\n",
      "[8,   600] loss: 2.261\n",
      "Epoch accuracy: 0.1209544986486435, Epoch loss: 0.1415253939369245\n",
      "Epoch duration : 56.79522633552551\n",
      "epoch : 9\n",
      "[9,   200] loss: 2.266\n",
      "[9,   400] loss: 2.262\n",
      "[9,   600] loss: 2.268\n",
      "Epoch accuracy: 0.11911892890930176, Epoch loss: 0.14146788804822008\n",
      "Epoch duration : 55.548588037490845\n",
      "epoch : 10\n",
      "[10,   200] loss: 2.252\n",
      "[10,   400] loss: 2.263\n",
      "[10,   600] loss: 2.261\n",
      "Epoch accuracy: 0.11960197240114212, Epoch loss: 0.14138008616256456\n",
      "Epoch duration : 55.02361536026001\n"
     ]
    }
   ],
   "source": [
    "epochs = 10\n",
    "data_type = 'audio'\n",
    "mlp, loss_vals, train_acc_vals, val_acc_vals = train(data_type, mlp, train_loader, val_loader, criterion, optimizer, scheduler, epochs)"
   ]
  },
  {
   "cell_type": "code",
   "execution_count": null,
   "metadata": {},
   "outputs": [],
   "source": []
  }
 ],
 "metadata": {
  "kernelspec": {
   "display_name": "Python 3",
   "language": "python",
   "name": "python3"
  },
  "language_info": {
   "codemirror_mode": {
    "name": "ipython",
    "version": 3
   },
   "file_extension": ".py",
   "mimetype": "text/x-python",
   "name": "python",
   "nbconvert_exporter": "python",
   "pygments_lexer": "ipython3",
   "version": "3.7.1"
  }
 },
 "nbformat": 4,
 "nbformat_minor": 4
}
